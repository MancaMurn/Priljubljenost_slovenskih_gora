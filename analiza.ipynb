{
 "cells": [
  {
   "cell_type": "markdown",
   "metadata": {},
   "source": [
    "## ANALIZA PODATKOV"
   ]
  },
  {
   "cell_type": "code",
   "execution_count": 4,
   "metadata": {},
   "outputs": [],
   "source": [
    "import pandas as pd\n",
    "\n",
    "hribi = pd.read_csv('obdelani_podatki/hribi.csv')"
   ]
  },
  {
   "cell_type": "code",
   "execution_count": 5,
   "metadata": {},
   "outputs": [
    {
     "data": {
      "text/html": [
       "<div>\n",
       "<style scoped>\n",
       "    .dataframe tbody tr th:only-of-type {\n",
       "        vertical-align: middle;\n",
       "    }\n",
       "\n",
       "    .dataframe tbody tr th {\n",
       "        vertical-align: top;\n",
       "    }\n",
       "\n",
       "    .dataframe thead th {\n",
       "        text-align: right;\n",
       "    }\n",
       "</style>\n",
       "<table border=\"1\" class=\"dataframe\">\n",
       "  <thead>\n",
       "    <tr style=\"text-align: right;\">\n",
       "      <th></th>\n",
       "      <th>ime</th>\n",
       "      <th>drzava</th>\n",
       "      <th>gorovje</th>\n",
       "      <th>visina</th>\n",
       "      <th>vrsta</th>\n",
       "      <th>stevilo_ogledov</th>\n",
       "      <th>priljubljenost</th>\n",
       "      <th>stevilo_poti</th>\n",
       "      <th>opis</th>\n",
       "    </tr>\n",
       "  </thead>\n",
       "  <tbody>\n",
       "    <tr>\n",
       "      <th>0</th>\n",
       "      <td>Snežnik</td>\n",
       "      <td>Slovenija</td>\n",
       "      <td>Goriško, Notranjsko in Snežniško hribovje</td>\n",
       "      <td>1796</td>\n",
       "      <td>vrh, koča</td>\n",
       "      <td>851397</td>\n",
       "      <td>99</td>\n",
       "      <td>12</td>\n",
       "      <td>Snežnik oz. Veliki Snežnik je z višino 1796 m ...</td>\n",
       "    </tr>\n",
       "    <tr>\n",
       "      <th>1</th>\n",
       "      <td>Mali Snežnik</td>\n",
       "      <td>Slovenija</td>\n",
       "      <td>Goriško, Notranjsko in Snežniško hribovje</td>\n",
       "      <td>1694</td>\n",
       "      <td>vrh</td>\n",
       "      <td>431337</td>\n",
       "      <td>83</td>\n",
       "      <td>4</td>\n",
       "      <td>Mali Snežnik je vrh na zahodnem grebenu Snežni...</td>\n",
       "    </tr>\n",
       "    <tr>\n",
       "      <th>2</th>\n",
       "      <td>Mali Golak</td>\n",
       "      <td>Slovenija</td>\n",
       "      <td>Goriško, Notranjsko in Snežniško hribovje</td>\n",
       "      <td>1495</td>\n",
       "      <td>vrh</td>\n",
       "      <td>637569</td>\n",
       "      <td>97</td>\n",
       "      <td>5</td>\n",
       "      <td>Mali Golak je najvišji od Golakov. Imena ni do...</td>\n",
       "    </tr>\n",
       "    <tr>\n",
       "      <th>3</th>\n",
       "      <td>Srednji Golak</td>\n",
       "      <td>Slovenija</td>\n",
       "      <td>Goriško, Notranjsko in Snežniško hribovje</td>\n",
       "      <td>1480</td>\n",
       "      <td>vrh</td>\n",
       "      <td>399136</td>\n",
       "      <td>79</td>\n",
       "      <td>3</td>\n",
       "      <td>Srednji Golak se nahaja med Malim in Velikim G...</td>\n",
       "    </tr>\n",
       "    <tr>\n",
       "      <th>4</th>\n",
       "      <td>Mrzovec</td>\n",
       "      <td>Slovenija</td>\n",
       "      <td>Goriško, Notranjsko in Snežniško hribovje</td>\n",
       "      <td>1410</td>\n",
       "      <td>vrh</td>\n",
       "      <td>414632</td>\n",
       "      <td>81</td>\n",
       "      <td>5</td>\n",
       "      <td>Mrzovec je najizrazitejši vrh v osrčju Trnovsk...</td>\n",
       "    </tr>\n",
       "    <tr>\n",
       "      <th>...</th>\n",
       "      <td>...</td>\n",
       "      <td>...</td>\n",
       "      <td>...</td>\n",
       "      <td>...</td>\n",
       "      <td>...</td>\n",
       "      <td>...</td>\n",
       "      <td>...</td>\n",
       "      <td>...</td>\n",
       "      <td>...</td>\n",
       "    </tr>\n",
       "    <tr>\n",
       "      <th>1317</th>\n",
       "      <td>Sveti Duh (Stara Gora)</td>\n",
       "      <td>Slovenija</td>\n",
       "      <td>Strojna, Košenjak, Kozjak in Slovenske gorice</td>\n",
       "      <td>262</td>\n",
       "      <td>vrh, koča, cerkev</td>\n",
       "      <td>322</td>\n",
       "      <td>10</td>\n",
       "      <td>2</td>\n",
       "      <td>Stara Gora je naselje v občini Sveti Jurij ob ...</td>\n",
       "    </tr>\n",
       "    <tr>\n",
       "      <th>1318</th>\n",
       "      <td>Rimsko gomilno grobišče v Anželovem gozdu</td>\n",
       "      <td>Slovenija</td>\n",
       "      <td>Strojna, Košenjak, Kozjak in Slovenske gorice</td>\n",
       "      <td>260</td>\n",
       "      <td>NaN</td>\n",
       "      <td>132</td>\n",
       "      <td>5</td>\n",
       "      <td>1</td>\n",
       "      <td>Rimsko gomilno grobišče v Anželovem gozdu v Br...</td>\n",
       "    </tr>\n",
       "    <tr>\n",
       "      <th>1319</th>\n",
       "      <td>Babičev mlin na Muri</td>\n",
       "      <td>Slovenija</td>\n",
       "      <td>Strojna, Košenjak, Kozjak in Slovenske gorice</td>\n",
       "      <td>182</td>\n",
       "      <td>NaN</td>\n",
       "      <td>1453</td>\n",
       "      <td>21</td>\n",
       "      <td>2</td>\n",
       "      <td>Babičev mlin na Muri se nahaja le kakih 100 me...</td>\n",
       "    </tr>\n",
       "    <tr>\n",
       "      <th>1320</th>\n",
       "      <td>Brod na Muri (Melinci)</td>\n",
       "      <td>Slovenija</td>\n",
       "      <td>Strojna, Košenjak, Kozjak in Slovenske gorice</td>\n",
       "      <td>175</td>\n",
       "      <td>NaN</td>\n",
       "      <td>196546</td>\n",
       "      <td>55</td>\n",
       "      <td>1</td>\n",
       "      <td>Brod v Melincih je eden od štirih brodov, ki š...</td>\n",
       "    </tr>\n",
       "    <tr>\n",
       "      <th>1321</th>\n",
       "      <td>Razkriški kot (sotočje Mure in Ščavnice)</td>\n",
       "      <td>Slovenija</td>\n",
       "      <td>Strojna, Košenjak, Kozjak in Slovenske gorice</td>\n",
       "      <td>169</td>\n",
       "      <td>NaN</td>\n",
       "      <td>72</td>\n",
       "      <td>3</td>\n",
       "      <td>2</td>\n",
       "      <td>Razkriški kot se nahaja severno od naselja Gib...</td>\n",
       "    </tr>\n",
       "  </tbody>\n",
       "</table>\n",
       "<p>1322 rows × 9 columns</p>\n",
       "</div>"
      ],
      "text/plain": [
       "                                            ime     drzava  \\\n",
       "0                                       Snežnik  Slovenija   \n",
       "1                                  Mali Snežnik  Slovenija   \n",
       "2                                    Mali Golak  Slovenija   \n",
       "3                                 Srednji Golak  Slovenija   \n",
       "4                                       Mrzovec  Slovenija   \n",
       "...                                         ...        ...   \n",
       "1317                     Sveti Duh (Stara Gora)  Slovenija   \n",
       "1318  Rimsko gomilno grobišče v Anželovem gozdu  Slovenija   \n",
       "1319                       Babičev mlin na Muri  Slovenija   \n",
       "1320                     Brod na Muri (Melinci)  Slovenija   \n",
       "1321   Razkriški kot (sotočje Mure in Ščavnice)  Slovenija   \n",
       "\n",
       "                                            gorovje  visina  \\\n",
       "0         Goriško, Notranjsko in Snežniško hribovje    1796   \n",
       "1         Goriško, Notranjsko in Snežniško hribovje    1694   \n",
       "2         Goriško, Notranjsko in Snežniško hribovje    1495   \n",
       "3         Goriško, Notranjsko in Snežniško hribovje    1480   \n",
       "4         Goriško, Notranjsko in Snežniško hribovje    1410   \n",
       "...                                             ...     ...   \n",
       "1317  Strojna, Košenjak, Kozjak in Slovenske gorice     262   \n",
       "1318  Strojna, Košenjak, Kozjak in Slovenske gorice     260   \n",
       "1319  Strojna, Košenjak, Kozjak in Slovenske gorice     182   \n",
       "1320  Strojna, Košenjak, Kozjak in Slovenske gorice     175   \n",
       "1321  Strojna, Košenjak, Kozjak in Slovenske gorice     169   \n",
       "\n",
       "                  vrsta  stevilo_ogledov  priljubljenost  stevilo_poti  \\\n",
       "0             vrh, koča           851397              99            12   \n",
       "1                   vrh           431337              83             4   \n",
       "2                   vrh           637569              97             5   \n",
       "3                   vrh           399136              79             3   \n",
       "4                   vrh           414632              81             5   \n",
       "...                 ...              ...             ...           ...   \n",
       "1317  vrh, koča, cerkev              322              10             2   \n",
       "1318                NaN              132               5             1   \n",
       "1319                NaN             1453              21             2   \n",
       "1320                NaN           196546              55             1   \n",
       "1321                NaN               72               3             2   \n",
       "\n",
       "                                                   opis  \n",
       "0     Snežnik oz. Veliki Snežnik je z višino 1796 m ...  \n",
       "1     Mali Snežnik je vrh na zahodnem grebenu Snežni...  \n",
       "2     Mali Golak je najvišji od Golakov. Imena ni do...  \n",
       "3     Srednji Golak se nahaja med Malim in Velikim G...  \n",
       "4     Mrzovec je najizrazitejši vrh v osrčju Trnovsk...  \n",
       "...                                                 ...  \n",
       "1317  Stara Gora je naselje v občini Sveti Jurij ob ...  \n",
       "1318  Rimsko gomilno grobišče v Anželovem gozdu v Br...  \n",
       "1319  Babičev mlin na Muri se nahaja le kakih 100 me...  \n",
       "1320  Brod v Melincih je eden od štirih brodov, ki š...  \n",
       "1321  Razkriški kot se nahaja severno od naselja Gib...  \n",
       "\n",
       "[1322 rows x 9 columns]"
      ]
     },
     "execution_count": 5,
     "metadata": {},
     "output_type": "execute_result"
    }
   ],
   "source": [
    "hribi"
   ]
  },
  {
   "cell_type": "code",
   "execution_count": 6,
   "metadata": {},
   "outputs": [
    {
     "data": {
      "text/html": [
       "<div>\n",
       "<style scoped>\n",
       "    .dataframe tbody tr th:only-of-type {\n",
       "        vertical-align: middle;\n",
       "    }\n",
       "\n",
       "    .dataframe tbody tr th {\n",
       "        vertical-align: top;\n",
       "    }\n",
       "\n",
       "    .dataframe thead th {\n",
       "        text-align: right;\n",
       "    }\n",
       "</style>\n",
       "<table border=\"1\" class=\"dataframe\">\n",
       "  <thead>\n",
       "    <tr style=\"text-align: right;\">\n",
       "      <th></th>\n",
       "      <th>ime_poti</th>\n",
       "      <th>cas_poti</th>\n",
       "      <th>tezavnost_poti</th>\n",
       "      <th>vrh</th>\n",
       "    </tr>\n",
       "  </thead>\n",
       "  <tbody>\n",
       "    <tr>\n",
       "      <th>0</th>\n",
       "      <td>Sviščaki - Snežnik (peš pot)</td>\n",
       "      <td>120</td>\n",
       "      <td>lahka označena pot</td>\n",
       "      <td>Snežnik</td>\n",
       "    </tr>\n",
       "    <tr>\n",
       "      <th>1</th>\n",
       "      <td>Kapetanova bajta - Snežnik</td>\n",
       "      <td>55</td>\n",
       "      <td>lahka označena pot</td>\n",
       "      <td>Snežnik</td>\n",
       "    </tr>\n",
       "    <tr>\n",
       "      <th>2</th>\n",
       "      <td>Leskova dolina - Snežnik</td>\n",
       "      <td>195</td>\n",
       "      <td>lahka označena pot</td>\n",
       "      <td>Snežnik</td>\n",
       "    </tr>\n",
       "    <tr>\n",
       "      <th>3</th>\n",
       "      <td>Snežniška Grda jama - Snežnik (čez Mali Snežnik)</td>\n",
       "      <td>85</td>\n",
       "      <td>lahka označena pot</td>\n",
       "      <td>Snežnik</td>\n",
       "    </tr>\n",
       "    <tr>\n",
       "      <th>4</th>\n",
       "      <td>Gašperjev hrib - Snežnik</td>\n",
       "      <td>90</td>\n",
       "      <td>lahka označena pot</td>\n",
       "      <td>Snežnik</td>\n",
       "    </tr>\n",
       "    <tr>\n",
       "      <th>...</th>\n",
       "      <td>...</td>\n",
       "      <td>...</td>\n",
       "      <td>...</td>\n",
       "      <td>...</td>\n",
       "    </tr>\n",
       "    <tr>\n",
       "      <th>4384</th>\n",
       "      <td>Veržej - Babičev mlin na Muri</td>\n",
       "      <td>20</td>\n",
       "      <td>lahka označena pot</td>\n",
       "      <td>Babičev mlin na Muri</td>\n",
       "    </tr>\n",
       "    <tr>\n",
       "      <th>4385</th>\n",
       "      <td>Beltinci - Babičev mlin na Muri</td>\n",
       "      <td>95</td>\n",
       "      <td>lahka označena pot</td>\n",
       "      <td>Babičev mlin na Muri</td>\n",
       "    </tr>\n",
       "    <tr>\n",
       "      <th>4386</th>\n",
       "      <td>Mota - Brod na Muri (Melinci) (od mrtvic do reke)</td>\n",
       "      <td>45</td>\n",
       "      <td>lahka označena pot</td>\n",
       "      <td>Brod na Muri (Melinci)</td>\n",
       "    </tr>\n",
       "    <tr>\n",
       "      <th>4387</th>\n",
       "      <td>Razkrižje - Razkriški kot (sotočje Mure in Šča...</td>\n",
       "      <td>75</td>\n",
       "      <td>lahka označena pot</td>\n",
       "      <td>Razkriški kot (sotočje Mure in Ščavnice)</td>\n",
       "    </tr>\n",
       "    <tr>\n",
       "      <th>4388</th>\n",
       "      <td>Gibina - Razkriški kot (sotočje Mure in Ščavnice)</td>\n",
       "      <td>6</td>\n",
       "      <td>lahka označena pot</td>\n",
       "      <td>Razkriški kot (sotočje Mure in Ščavnice)</td>\n",
       "    </tr>\n",
       "  </tbody>\n",
       "</table>\n",
       "<p>4389 rows × 4 columns</p>\n",
       "</div>"
      ],
      "text/plain": [
       "                                               ime_poti  cas_poti  \\\n",
       "0                          Sviščaki - Snežnik (peš pot)       120   \n",
       "1                            Kapetanova bajta - Snežnik        55   \n",
       "2                              Leskova dolina - Snežnik       195   \n",
       "3      Snežniška Grda jama - Snežnik (čez Mali Snežnik)        85   \n",
       "4                              Gašperjev hrib - Snežnik        90   \n",
       "...                                                 ...       ...   \n",
       "4384                      Veržej - Babičev mlin na Muri        20   \n",
       "4385                    Beltinci - Babičev mlin na Muri        95   \n",
       "4386  Mota - Brod na Muri (Melinci) (od mrtvic do reke)        45   \n",
       "4387  Razkrižje - Razkriški kot (sotočje Mure in Šča...        75   \n",
       "4388  Gibina - Razkriški kot (sotočje Mure in Ščavnice)         6   \n",
       "\n",
       "          tezavnost_poti                                       vrh  \n",
       "0     lahka označena pot                                   Snežnik  \n",
       "1     lahka označena pot                                   Snežnik  \n",
       "2     lahka označena pot                                   Snežnik  \n",
       "3     lahka označena pot                                   Snežnik  \n",
       "4     lahka označena pot                                   Snežnik  \n",
       "...                  ...                                       ...  \n",
       "4384  lahka označena pot                      Babičev mlin na Muri  \n",
       "4385  lahka označena pot                      Babičev mlin na Muri  \n",
       "4386  lahka označena pot                    Brod na Muri (Melinci)  \n",
       "4387  lahka označena pot  Razkriški kot (sotočje Mure in Ščavnice)  \n",
       "4388  lahka označena pot  Razkriški kot (sotočje Mure in Ščavnice)  \n",
       "\n",
       "[4389 rows x 4 columns]"
      ]
     },
     "execution_count": 6,
     "metadata": {},
     "output_type": "execute_result"
    }
   ],
   "source": [
    "poti = pd.read_csv('obdelani_podatki/poti.csv')\n",
    "poti"
   ]
  },
  {
   "cell_type": "code",
   "execution_count": 10,
   "metadata": {},
   "outputs": [
    {
     "data": {
      "text/plain": [
       "1322"
      ]
     },
     "execution_count": 10,
     "metadata": {},
     "output_type": "execute_result"
    }
   ],
   "source": [
    "st_hribov = hribi['ime'].count()\n",
    "st_hribov"
   ]
  },
  {
   "cell_type": "code",
   "execution_count": 12,
   "metadata": {},
   "outputs": [
    {
     "data": {
      "text/plain": [
       "4389"
      ]
     },
     "execution_count": 12,
     "metadata": {},
     "output_type": "execute_result"
    }
   ],
   "source": [
    "st_vseh_poti = poti['ime_poti'].count()\n",
    "st_vseh_poti"
   ]
  },
  {
   "cell_type": "markdown",
   "metadata": {},
   "source": [
    "Nekaj je šlo narobe, saj je shranjenih 2182 strani (za vsak hrib oz. vrh ena) v csv datoteki pa je zgolj 1322 vrhov. Kje se je zalomilo?\n",
    "Poglejmo koliko vrhov imamo v posameznem gorovju."
   ]
  },
  {
   "cell_type": "code",
   "execution_count": 23,
   "metadata": {},
   "outputs": [
    {
     "data": {
      "text/html": [
       "<div>\n",
       "<style scoped>\n",
       "    .dataframe tbody tr th:only-of-type {\n",
       "        vertical-align: middle;\n",
       "    }\n",
       "\n",
       "    .dataframe tbody tr th {\n",
       "        vertical-align: top;\n",
       "    }\n",
       "\n",
       "    .dataframe thead th {\n",
       "        text-align: right;\n",
       "    }\n",
       "</style>\n",
       "<table border=\"1\" class=\"dataframe\">\n",
       "  <thead>\n",
       "    <tr style=\"text-align: right;\">\n",
       "      <th></th>\n",
       "      <th>ime</th>\n",
       "      <th>drzava</th>\n",
       "      <th>gorovje</th>\n",
       "      <th>visina</th>\n",
       "      <th>vrsta</th>\n",
       "      <th>stevilo_ogledov</th>\n",
       "      <th>priljubljenost</th>\n",
       "      <th>stevilo_poti</th>\n",
       "      <th>opis</th>\n",
       "    </tr>\n",
       "  </thead>\n",
       "  <tbody>\n",
       "    <tr>\n",
       "      <th>231</th>\n",
       "      <td>Triglav</td>\n",
       "      <td>Slovenija</td>\n",
       "      <td>Julijske Alpe</td>\n",
       "      <td>2864</td>\n",
       "      <td>vrh, bivak</td>\n",
       "      <td>1523369</td>\n",
       "      <td>100</td>\n",
       "      <td>28</td>\n",
       "      <td>Triglav je 2864 m visoka gora, ki se nahaja v ...</td>\n",
       "    </tr>\n",
       "    <tr>\n",
       "      <th>232</th>\n",
       "      <td>Škrlatica</td>\n",
       "      <td>Slovenija</td>\n",
       "      <td>Julijske Alpe</td>\n",
       "      <td>2740</td>\n",
       "      <td>vrh</td>\n",
       "      <td>776333</td>\n",
       "      <td>99</td>\n",
       "      <td>5</td>\n",
       "      <td>Škrlatica je druga najvišja gora v Sloveniji. ...</td>\n",
       "    </tr>\n",
       "    <tr>\n",
       "      <th>233</th>\n",
       "      <td>Mali Triglav</td>\n",
       "      <td>Slovenija</td>\n",
       "      <td>Julijske Alpe</td>\n",
       "      <td>2725</td>\n",
       "      <td>vrh</td>\n",
       "      <td>526828</td>\n",
       "      <td>92</td>\n",
       "      <td>3</td>\n",
       "      <td>Mali Triglav je neizrazit vrh v glavnem greben...</td>\n",
       "    </tr>\n",
       "    <tr>\n",
       "      <th>234</th>\n",
       "      <td>Visoki Rokav</td>\n",
       "      <td>Slovenija</td>\n",
       "      <td>Julijske Alpe</td>\n",
       "      <td>2646</td>\n",
       "      <td>vrh</td>\n",
       "      <td>514309</td>\n",
       "      <td>91</td>\n",
       "      <td>2</td>\n",
       "      <td>Visoki Rokav je najvišja gora v Sloveniji na k...</td>\n",
       "    </tr>\n",
       "    <tr>\n",
       "      <th>235</th>\n",
       "      <td>Jalovec</td>\n",
       "      <td>Slovenija</td>\n",
       "      <td>Julijske Alpe</td>\n",
       "      <td>2645</td>\n",
       "      <td>vrh</td>\n",
       "      <td>832853</td>\n",
       "      <td>99</td>\n",
       "      <td>10</td>\n",
       "      <td>Jalovec je z višino 2645 m, šesta najvišja gor...</td>\n",
       "    </tr>\n",
       "    <tr>\n",
       "      <th>...</th>\n",
       "      <td>...</td>\n",
       "      <td>...</td>\n",
       "      <td>...</td>\n",
       "      <td>...</td>\n",
       "      <td>...</td>\n",
       "      <td>...</td>\n",
       "      <td>...</td>\n",
       "      <td>...</td>\n",
       "      <td>...</td>\n",
       "    </tr>\n",
       "    <tr>\n",
       "      <th>535</th>\n",
       "      <td>Izvir Glijuna</td>\n",
       "      <td>Slovenija</td>\n",
       "      <td>Julijske Alpe</td>\n",
       "      <td>450</td>\n",
       "      <td>NaN</td>\n",
       "      <td>293607</td>\n",
       "      <td>67</td>\n",
       "      <td>1</td>\n",
       "      <td>Izvir Glijuna je močan kraški izvir, ki se nah...</td>\n",
       "    </tr>\n",
       "    <tr>\n",
       "      <th>536</th>\n",
       "      <td>Mala Boka</td>\n",
       "      <td>Slovenija</td>\n",
       "      <td>Julijske Alpe</td>\n",
       "      <td>440</td>\n",
       "      <td>NaN</td>\n",
       "      <td>214664</td>\n",
       "      <td>57</td>\n",
       "      <td>1</td>\n",
       "      <td>Mala Boka je kraška jama, ki se nahaja ob vzno...</td>\n",
       "    </tr>\n",
       "    <tr>\n",
       "      <th>537</th>\n",
       "      <td>Kozlov rob</td>\n",
       "      <td>Slovenija</td>\n",
       "      <td>Julijske Alpe</td>\n",
       "      <td>426</td>\n",
       "      <td>vrh</td>\n",
       "      <td>376188</td>\n",
       "      <td>77</td>\n",
       "      <td>2</td>\n",
       "      <td>Kozlov rob ali Grad kot mu pravijo domačini, j...</td>\n",
       "    </tr>\n",
       "    <tr>\n",
       "      <th>538</th>\n",
       "      <td>Korita Soče pri Kršovcu</td>\n",
       "      <td>Slovenija</td>\n",
       "      <td>Julijske Alpe</td>\n",
       "      <td>390</td>\n",
       "      <td>NaN</td>\n",
       "      <td>322408</td>\n",
       "      <td>70</td>\n",
       "      <td>1</td>\n",
       "      <td>Soča je na tem mestu izdolbla korita dolga okr...</td>\n",
       "    </tr>\n",
       "    <tr>\n",
       "      <th>539</th>\n",
       "      <td>Tolminska korita</td>\n",
       "      <td>Slovenija</td>\n",
       "      <td>Julijske Alpe</td>\n",
       "      <td>180</td>\n",
       "      <td>NaN</td>\n",
       "      <td>431701</td>\n",
       "      <td>83</td>\n",
       "      <td>0</td>\n",
       "      <td>Tolminska korita so dolga 200 m, široka pa od ...</td>\n",
       "    </tr>\n",
       "  </tbody>\n",
       "</table>\n",
       "<p>309 rows × 9 columns</p>\n",
       "</div>"
      ],
      "text/plain": [
       "                         ime     drzava        gorovje  visina       vrsta  \\\n",
       "231                  Triglav  Slovenija  Julijske Alpe    2864  vrh, bivak   \n",
       "232                Škrlatica  Slovenija  Julijske Alpe    2740         vrh   \n",
       "233             Mali Triglav  Slovenija  Julijske Alpe    2725         vrh   \n",
       "234             Visoki Rokav  Slovenija  Julijske Alpe    2646         vrh   \n",
       "235                  Jalovec  Slovenija  Julijske Alpe    2645         vrh   \n",
       "..                       ...        ...            ...     ...         ...   \n",
       "535            Izvir Glijuna  Slovenija  Julijske Alpe     450         NaN   \n",
       "536                Mala Boka  Slovenija  Julijske Alpe     440         NaN   \n",
       "537               Kozlov rob  Slovenija  Julijske Alpe     426         vrh   \n",
       "538  Korita Soče pri Kršovcu  Slovenija  Julijske Alpe     390         NaN   \n",
       "539         Tolminska korita  Slovenija  Julijske Alpe     180         NaN   \n",
       "\n",
       "     stevilo_ogledov  priljubljenost  stevilo_poti  \\\n",
       "231          1523369             100            28   \n",
       "232           776333              99             5   \n",
       "233           526828              92             3   \n",
       "234           514309              91             2   \n",
       "235           832853              99            10   \n",
       "..               ...             ...           ...   \n",
       "535           293607              67             1   \n",
       "536           214664              57             1   \n",
       "537           376188              77             2   \n",
       "538           322408              70             1   \n",
       "539           431701              83             0   \n",
       "\n",
       "                                                  opis  \n",
       "231  Triglav je 2864 m visoka gora, ki se nahaja v ...  \n",
       "232  Škrlatica je druga najvišja gora v Sloveniji. ...  \n",
       "233  Mali Triglav je neizrazit vrh v glavnem greben...  \n",
       "234  Visoki Rokav je najvišja gora v Sloveniji na k...  \n",
       "235  Jalovec je z višino 2645 m, šesta najvišja gor...  \n",
       "..                                                 ...  \n",
       "535  Izvir Glijuna je močan kraški izvir, ki se nah...  \n",
       "536  Mala Boka je kraška jama, ki se nahaja ob vzno...  \n",
       "537  Kozlov rob ali Grad kot mu pravijo domačini, j...  \n",
       "538  Soča je na tem mestu izdolbla korita dolga okr...  \n",
       "539  Tolminska korita so dolga 200 m, široka pa od ...  \n",
       "\n",
       "[309 rows x 9 columns]"
      ]
     },
     "execution_count": 23,
     "metadata": {},
     "output_type": "execute_result"
    }
   ],
   "source": [
    "julijci = hribi[hribi.gorovje == 'Julijske Alpe']\n",
    "julijci"
   ]
  },
  {
   "cell_type": "code",
   "execution_count": 24,
   "metadata": {},
   "outputs": [
    {
     "data": {
      "text/plain": [
       "309"
      ]
     },
     "execution_count": 24,
     "metadata": {},
     "output_type": "execute_result"
    }
   ],
   "source": [
    "st_julijcev = julijci['ime'].count()\n",
    "st_julijcev"
   ]
  },
  {
   "cell_type": "markdown",
   "metadata": {},
   "source": [
    "Vrhov v julijskih alpah bi moralo biti 565 (toliko je shranjenih strani), v tabeli jih imamo le 309. Preden iščemo napako pregeljmo še ostale vrhove."
   ]
  },
  {
   "cell_type": "code",
   "execution_count": 26,
   "metadata": {},
   "outputs": [
    {
     "data": {
      "text/plain": [
       "154"
      ]
     },
     "execution_count": 26,
     "metadata": {},
     "output_type": "execute_result"
    }
   ],
   "source": [
    "kamniske = hribi[hribi.gorovje == 'Kamniško Savinjske Alpe']\n",
    "st_kamniskih = kamniske['ime'].count()\n",
    "st_kamniskih"
   ]
  },
  {
   "cell_type": "markdown",
   "metadata": {},
   "source": [
    "Vrhov v Kamniško Savinjskih Alpah bi morali imeti 281, v tabeli jih je le 154."
   ]
  },
  {
   "cell_type": "code",
   "execution_count": 28,
   "metadata": {},
   "outputs": [
    {
     "data": {
      "text/plain": [
       "145"
      ]
     },
     "execution_count": 28,
     "metadata": {},
     "output_type": "execute_result"
    }
   ],
   "source": [
    "karavanke = hribi[hribi.gorovje == 'Karavanke']\n",
    "st_karavank = karavanke['ime'].count()\n",
    "st_karavank"
   ]
  },
  {
   "cell_type": "markdown",
   "metadata": {},
   "source": [
    "Vrhov v Karavankah bi moralo biti 362 in ne zgolj 145."
   ]
  },
  {
   "cell_type": "code",
   "execution_count": 33,
   "metadata": {},
   "outputs": [
    {
     "data": {
      "text/plain": [
       "231"
      ]
     },
     "execution_count": 33,
     "metadata": {},
     "output_type": "execute_result"
    }
   ],
   "source": [
    "gns = hribi[hribi.gorovje == 'Goriško, Notranjsko in Snežniško hribovje']\n",
    "st_gns = gns['ime'].count()\n",
    "st_gns"
   ]
  },
  {
   "cell_type": "markdown",
   "metadata": {},
   "source": [
    "Vrhov v Goriškem, Notranjskem in Snežniškem hribovju bi moralo biti 292, imamo jih le 231."
   ]
  },
  {
   "cell_type": "code",
   "execution_count": 34,
   "metadata": {},
   "outputs": [
    {
     "data": {
      "text/plain": [
       "55"
      ]
     },
     "execution_count": 34,
     "metadata": {},
     "output_type": "execute_result"
    }
   ],
   "source": [
    "pohorje = hribi[hribi.gorovje == 'Pohorje, Dravinjske gorice in Haloze']\n",
    "st_pohorje = pohorje['ime'].count()\n",
    "st_pohorje"
   ]
  },
  {
   "cell_type": "markdown",
   "metadata": {},
   "source": [
    "Namesto 95 imamo le 55 vrhov na Pohorju, Dravinjskih goricah in Halozah :(."
   ]
  },
  {
   "cell_type": "code",
   "execution_count": 35,
   "metadata": {},
   "outputs": [
    {
     "data": {
      "text/plain": [
       "69"
      ]
     },
     "execution_count": 35,
     "metadata": {},
     "output_type": "execute_result"
    }
   ],
   "source": [
    "pl = hribi[hribi.gorovje == 'Polhograjsko hribovje in Ljubljana']\n",
    "st_pl = pl['ime'].count()\n",
    "st_pl"
   ]
  },
  {
   "cell_type": "markdown",
   "metadata": {},
   "source": [
    "Namesto 88 imamo v Polhograjskem hribovju in v Ljubljani 69 vrhov."
   ]
  },
  {
   "cell_type": "code",
   "execution_count": 36,
   "metadata": {},
   "outputs": [
    {
     "data": {
      "text/plain": [
       "181"
      ]
     },
     "execution_count": 36,
     "metadata": {},
     "output_type": "execute_result"
    }
   ],
   "source": [
    "pd = hribi[hribi.gorovje == 'Posavsko hribovje in Dolenjska']\n",
    "st_pd = pd['ime'].count()\n",
    "st_pd"
   ]
  },
  {
   "cell_type": "markdown",
   "metadata": {},
   "source": [
    "Namesto 230 jih je v Posavskem hribovju in na Dolenjskem le 181."
   ]
  },
  {
   "cell_type": "code",
   "execution_count": 37,
   "metadata": {},
   "outputs": [
    {
     "data": {
      "text/plain": [
       "37"
      ]
     },
     "execution_count": 37,
     "metadata": {},
     "output_type": "execute_result"
    }
   ],
   "source": [
    "prekmurje = hribi[hribi.gorovje == 'Prekmurje']\n",
    "st_prekmurje = prekmurje['ime'].count()\n",
    "st_prekmurje"
   ]
  },
  {
   "cell_type": "markdown",
   "metadata": {},
   "source": [
    "Namesto 54 jih je v Prekmurju 37."
   ]
  },
  {
   "cell_type": "code",
   "execution_count": 38,
   "metadata": {},
   "outputs": [
    {
     "data": {
      "text/plain": [
       "91"
      ]
     },
     "execution_count": 38,
     "metadata": {},
     "output_type": "execute_result"
    }
   ],
   "source": [
    "scj = hribi[hribi.gorovje == 'Škofjeloško, Cerkljansko hribovje in Jelovica']\n",
    "st_scj = scj['ime'].count()\n",
    "st_scj"
   ]
  },
  {
   "cell_type": "markdown",
   "metadata": {},
   "source": [
    "Namesto 143 jih je zgolj 91 v Škofjeloškem, Cerkljanskem hribovju in v Jelovici."
   ]
  },
  {
   "cell_type": "code",
   "execution_count": 39,
   "metadata": {},
   "outputs": [
    {
     "data": {
      "text/plain": [
       "50"
      ]
     },
     "execution_count": 39,
     "metadata": {},
     "output_type": "execute_result"
    }
   ],
   "source": [
    "skks = hribi[hribi.gorovje == 'Strojna, Košenjak, Kozjak in Slovenske gorice']\n",
    "st_skks = skks['ime'].count()\n",
    "st_skks"
   ]
  },
  {
   "cell_type": "markdown",
   "metadata": {},
   "source": [
    "In nazadnje jih je namesto 74 le 50 v Strojni, Košenjaku, Kozjaku in Slovenskih goricah."
   ]
  },
  {
   "cell_type": "markdown",
   "metadata": {},
   "source": []
  }
 ],
 "metadata": {
  "kernelspec": {
   "display_name": "Python 3.10.7 64-bit",
   "language": "python",
   "name": "python3"
  },
  "language_info": {
   "codemirror_mode": {
    "name": "ipython",
    "version": 3
   },
   "file_extension": ".py",
   "mimetype": "text/x-python",
   "name": "python",
   "nbconvert_exporter": "python",
   "pygments_lexer": "ipython3",
   "version": "3.10.7"
  },
  "orig_nbformat": 4,
  "vscode": {
   "interpreter": {
    "hash": "26de051ba29f2982a8de78e945f0abaf191376122a1563185a90213a26c5da77"
   }
  }
 },
 "nbformat": 4,
 "nbformat_minor": 2
}
